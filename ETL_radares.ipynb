{
 "cells": [
  {
   "cell_type": "code",
   "execution_count": 1,
   "metadata": {},
   "outputs": [],
   "source": [
    "import pandas as pd\n",
    "import matplotlib.pyplot as plt"
   ]
  },
  {
   "cell_type": "code",
   "execution_count": 17,
   "metadata": {},
   "outputs": [
    {
     "name": "stderr",
     "output_type": "stream",
     "text": [
      "C:\\Users\\PC\\AppData\\Local\\Temp\\ipykernel_13996\\3677199173.py:2: DtypeWarning: Columns (4,6,7) have mixed types. Specify dtype option on import or set low_memory=False.\n",
      "  df_radares = pd.read_csv('raw_data/flujo-vehicular-por-radares-2021.csv')\n"
     ]
    },
    {
     "data": {
      "text/html": [
       "<div>\n",
       "<style scoped>\n",
       "    .dataframe tbody tr th:only-of-type {\n",
       "        vertical-align: middle;\n",
       "    }\n",
       "\n",
       "    .dataframe tbody tr th {\n",
       "        vertical-align: top;\n",
       "    }\n",
       "\n",
       "    .dataframe thead th {\n",
       "        text-align: right;\n",
       "    }\n",
       "</style>\n",
       "<table border=\"1\" class=\"dataframe\">\n",
       "  <thead>\n",
       "    <tr style=\"text-align: right;\">\n",
       "      <th></th>\n",
       "      <th>Mes, Día, Año de H_Fecha</th>\n",
       "      <th>H_Hora</th>\n",
       "      <th>Aut Nombre</th>\n",
       "      <th>Disp Nombre</th>\n",
       "      <th>Disp Ubicacion</th>\n",
       "      <th>Seccion Sentido</th>\n",
       "      <th>Disp Lat</th>\n",
       "      <th>Disp Lng</th>\n",
       "      <th>H_Cant_Veh</th>\n",
       "      <th>Hora de H_Fecha</th>\n",
       "    </tr>\n",
       "  </thead>\n",
       "  <tbody>\n",
       "    <tr>\n",
       "      <th>0</th>\n",
       "      <td>01/01/21</td>\n",
       "      <td>0.0</td>\n",
       "      <td>AU 4  Lugones</td>\n",
       "      <td>RD171 Esma</td>\n",
       "      <td>9.9</td>\n",
       "      <td>A</td>\n",
       "      <td>NaN</td>\n",
       "      <td>-58.45967</td>\n",
       "      <td>943</td>\n",
       "      <td>NaN</td>\n",
       "    </tr>\n",
       "    <tr>\n",
       "      <th>1</th>\n",
       "      <td>01/01/21</td>\n",
       "      <td>1.0</td>\n",
       "      <td>AU 4  Lugones</td>\n",
       "      <td>RD171 Esma</td>\n",
       "      <td>9.9</td>\n",
       "      <td>A</td>\n",
       "      <td>NaN</td>\n",
       "      <td>-58.45967</td>\n",
       "      <td>3946</td>\n",
       "      <td>NaN</td>\n",
       "    </tr>\n",
       "    <tr>\n",
       "      <th>2</th>\n",
       "      <td>01/01/21</td>\n",
       "      <td>2.0</td>\n",
       "      <td>AU 4  Lugones</td>\n",
       "      <td>RD171 Esma</td>\n",
       "      <td>9.9</td>\n",
       "      <td>A</td>\n",
       "      <td>NaN</td>\n",
       "      <td>-58.45967</td>\n",
       "      <td>4662</td>\n",
       "      <td>NaN</td>\n",
       "    </tr>\n",
       "    <tr>\n",
       "      <th>3</th>\n",
       "      <td>01/01/21</td>\n",
       "      <td>3.0</td>\n",
       "      <td>AU 4  Lugones</td>\n",
       "      <td>RD171 Esma</td>\n",
       "      <td>9.9</td>\n",
       "      <td>A</td>\n",
       "      <td>NaN</td>\n",
       "      <td>-58.45967</td>\n",
       "      <td>2486</td>\n",
       "      <td>NaN</td>\n",
       "    </tr>\n",
       "    <tr>\n",
       "      <th>4</th>\n",
       "      <td>01/01/21</td>\n",
       "      <td>4.0</td>\n",
       "      <td>AU 4  Lugones</td>\n",
       "      <td>RD171 Esma</td>\n",
       "      <td>9.9</td>\n",
       "      <td>A</td>\n",
       "      <td>NaN</td>\n",
       "      <td>-58.45967</td>\n",
       "      <td>1268</td>\n",
       "      <td>NaN</td>\n",
       "    </tr>\n",
       "  </tbody>\n",
       "</table>\n",
       "</div>"
      ],
      "text/plain": [
       "  Mes, Día, Año de H_Fecha  H_Hora     Aut Nombre Disp Nombre Disp Ubicacion  \\\n",
       "0                 01/01/21     0.0  AU 4  Lugones  RD171 Esma            9.9   \n",
       "1                 01/01/21     1.0  AU 4  Lugones  RD171 Esma            9.9   \n",
       "2                 01/01/21     2.0  AU 4  Lugones  RD171 Esma            9.9   \n",
       "3                 01/01/21     3.0  AU 4  Lugones  RD171 Esma            9.9   \n",
       "4                 01/01/21     4.0  AU 4  Lugones  RD171 Esma            9.9   \n",
       "\n",
       "  Seccion Sentido Disp Lat  Disp Lng  H_Cant_Veh  Hora de H_Fecha  \n",
       "0               A      NaN -58.45967         943              NaN  \n",
       "1               A      NaN -58.45967        3946              NaN  \n",
       "2               A      NaN -58.45967        4662              NaN  \n",
       "3               A      NaN -58.45967        2486              NaN  \n",
       "4               A      NaN -58.45967        1268              NaN  "
      ]
     },
     "execution_count": 17,
     "metadata": {},
     "output_type": "execute_result"
    }
   ],
   "source": [
    "#Se carga el archivo csv\n",
    "df_radares = pd.read_csv('raw_data/flujo-vehicular-por-radares-2021.csv')\n",
    "df_radares.head()"
   ]
  },
  {
   "cell_type": "code",
   "execution_count": 18,
   "metadata": {},
   "outputs": [
    {
     "data": {
      "text/html": [
       "<div>\n",
       "<style scoped>\n",
       "    .dataframe tbody tr th:only-of-type {\n",
       "        vertical-align: middle;\n",
       "    }\n",
       "\n",
       "    .dataframe tbody tr th {\n",
       "        vertical-align: top;\n",
       "    }\n",
       "\n",
       "    .dataframe thead th {\n",
       "        text-align: right;\n",
       "    }\n",
       "</style>\n",
       "<table border=\"1\" class=\"dataframe\">\n",
       "  <thead>\n",
       "    <tr style=\"text-align: right;\">\n",
       "      <th></th>\n",
       "      <th>H_Hora</th>\n",
       "      <th>H_Cant_Veh</th>\n",
       "    </tr>\n",
       "  </thead>\n",
       "  <tbody>\n",
       "    <tr>\n",
       "      <th>0</th>\n",
       "      <td>0.0</td>\n",
       "      <td>943</td>\n",
       "    </tr>\n",
       "    <tr>\n",
       "      <th>1</th>\n",
       "      <td>1.0</td>\n",
       "      <td>3946</td>\n",
       "    </tr>\n",
       "    <tr>\n",
       "      <th>2</th>\n",
       "      <td>2.0</td>\n",
       "      <td>4662</td>\n",
       "    </tr>\n",
       "    <tr>\n",
       "      <th>3</th>\n",
       "      <td>3.0</td>\n",
       "      <td>2486</td>\n",
       "    </tr>\n",
       "    <tr>\n",
       "      <th>4</th>\n",
       "      <td>4.0</td>\n",
       "      <td>1268</td>\n",
       "    </tr>\n",
       "  </tbody>\n",
       "</table>\n",
       "</div>"
      ],
      "text/plain": [
       "   H_Hora  H_Cant_Veh\n",
       "0     0.0         943\n",
       "1     1.0        3946\n",
       "2     2.0        4662\n",
       "3     3.0        2486\n",
       "4     4.0        1268"
      ]
     },
     "execution_count": 18,
     "metadata": {},
     "output_type": "execute_result"
    }
   ],
   "source": [
    "#Se extraen las columnas necesarias\n",
    "df_radares = df_radares[['H_Hora','H_Cant_Veh']]\n",
    "df_radares.head()"
   ]
  },
  {
   "cell_type": "code",
   "execution_count": 19,
   "metadata": {},
   "outputs": [],
   "source": [
    "df_radares.rename(columns={'H_Hora':'hora','H_Cant_Veh':'cantidad_vehiculos'},inplace=True)"
   ]
  },
  {
   "cell_type": "code",
   "execution_count": 20,
   "metadata": {},
   "outputs": [
    {
     "data": {
      "text/html": [
       "<div>\n",
       "<style scoped>\n",
       "    .dataframe tbody tr th:only-of-type {\n",
       "        vertical-align: middle;\n",
       "    }\n",
       "\n",
       "    .dataframe tbody tr th {\n",
       "        vertical-align: top;\n",
       "    }\n",
       "\n",
       "    .dataframe thead th {\n",
       "        text-align: right;\n",
       "    }\n",
       "</style>\n",
       "<table border=\"1\" class=\"dataframe\">\n",
       "  <thead>\n",
       "    <tr style=\"text-align: right;\">\n",
       "      <th></th>\n",
       "      <th>hora</th>\n",
       "      <th>cantidad_vehiculos</th>\n",
       "    </tr>\n",
       "  </thead>\n",
       "  <tbody>\n",
       "    <tr>\n",
       "      <th>0</th>\n",
       "      <td>0.0</td>\n",
       "      <td>943</td>\n",
       "    </tr>\n",
       "    <tr>\n",
       "      <th>1</th>\n",
       "      <td>1.0</td>\n",
       "      <td>3946</td>\n",
       "    </tr>\n",
       "    <tr>\n",
       "      <th>2</th>\n",
       "      <td>2.0</td>\n",
       "      <td>4662</td>\n",
       "    </tr>\n",
       "    <tr>\n",
       "      <th>3</th>\n",
       "      <td>3.0</td>\n",
       "      <td>2486</td>\n",
       "    </tr>\n",
       "    <tr>\n",
       "      <th>4</th>\n",
       "      <td>4.0</td>\n",
       "      <td>1268</td>\n",
       "    </tr>\n",
       "  </tbody>\n",
       "</table>\n",
       "</div>"
      ],
      "text/plain": [
       "   hora  cantidad_vehiculos\n",
       "0   0.0                 943\n",
       "1   1.0                3946\n",
       "2   2.0                4662\n",
       "3   3.0                2486\n",
       "4   4.0                1268"
      ]
     },
     "execution_count": 20,
     "metadata": {},
     "output_type": "execute_result"
    }
   ],
   "source": [
    "df_radares.head()"
   ]
  },
  {
   "cell_type": "code",
   "execution_count": 21,
   "metadata": {},
   "outputs": [],
   "source": [
    "#Se agrupa por hora sumando la cantidad de vehiculos\n",
    "df_grouped = df_radares.groupby('hora')['cantidad_vehiculos'].sum().reset_index()"
   ]
  },
  {
   "cell_type": "code",
   "execution_count": 24,
   "metadata": {},
   "outputs": [
    {
     "ename": "",
     "evalue": "",
     "output_type": "error",
     "traceback": [
      "\u001b[1;31mThe Kernel crashed while executing code in the the current cell or a previous cell. Please review the code in the cell(s) to identify a possible cause of the failure. Click <a href='https://aka.ms/vscodeJupyterKernelCrash'>here</a> for more info. View Jupyter <a href='command:jupyter.viewOutput'>log</a> for further details."
     ]
    }
   ],
   "source": [
    "df_grouped.to_csv('processed_data/radares_AUSA.csv', index=False)"
   ]
  }
 ],
 "metadata": {
  "kernelspec": {
   "display_name": "Python 3",
   "language": "python",
   "name": "python3"
  },
  "language_info": {
   "codemirror_mode": {
    "name": "ipython",
    "version": 3
   },
   "file_extension": ".py",
   "mimetype": "text/x-python",
   "name": "python",
   "nbconvert_exporter": "python",
   "pygments_lexer": "ipython3",
   "version": "3.11.6"
  }
 },
 "nbformat": 4,
 "nbformat_minor": 2
}
